{
  "nbformat": 4,
  "nbformat_minor": 0,
  "metadata": {
    "colab": {
      "name": "CNN-tri-tue-nhan-tao.ipynb",
      "provenance": [],
      "toc_visible": true
    },
    "kernelspec": {
      "name": "python3",
      "display_name": "Python 3"
    },
    "accelerator": "GPU"
  },
  "cells": [
    {
      "cell_type": "code",
      "metadata": {
        "id": "JW19Jxzn-Fxp",
        "colab_type": "code",
        "colab": {
          "base_uri": "https://localhost:8080/",
          "height": 275
        },
        "outputId": "566faccc-4294-4a22-e87b-d7f221305978"
      },
      "source": [
        "# installed mtcnn-0.1.0\n",
        "!pip install mtcnn"
      ],
      "execution_count": null,
      "outputs": [
        {
          "output_type": "stream",
          "text": [
            "Collecting mtcnn\n",
            "\u001b[?25l  Downloading https://files.pythonhosted.org/packages/67/43/abee91792797c609c1bf30f1112117f7a87a713ebaa6ec5201d5555a73ef/mtcnn-0.1.0-py3-none-any.whl (2.3MB)\n",
            "\u001b[K     |████████████████████████████████| 2.3MB 3.4MB/s \n",
            "\u001b[?25hRequirement already satisfied: keras>=2.0.0 in /usr/local/lib/python3.6/dist-packages (from mtcnn) (2.3.1)\n",
            "Requirement already satisfied: opencv-python>=4.1.0 in /usr/local/lib/python3.6/dist-packages (from mtcnn) (4.1.2.30)\n",
            "Requirement already satisfied: scipy>=0.14 in /usr/local/lib/python3.6/dist-packages (from keras>=2.0.0->mtcnn) (1.4.1)\n",
            "Requirement already satisfied: keras-preprocessing>=1.0.5 in /usr/local/lib/python3.6/dist-packages (from keras>=2.0.0->mtcnn) (1.1.2)\n",
            "Requirement already satisfied: six>=1.9.0 in /usr/local/lib/python3.6/dist-packages (from keras>=2.0.0->mtcnn) (1.12.0)\n",
            "Requirement already satisfied: h5py in /usr/local/lib/python3.6/dist-packages (from keras>=2.0.0->mtcnn) (2.10.0)\n",
            "Requirement already satisfied: pyyaml in /usr/local/lib/python3.6/dist-packages (from keras>=2.0.0->mtcnn) (3.13)\n",
            "Requirement already satisfied: keras-applications>=1.0.6 in /usr/local/lib/python3.6/dist-packages (from keras>=2.0.0->mtcnn) (1.0.8)\n",
            "Requirement already satisfied: numpy>=1.9.1 in /usr/local/lib/python3.6/dist-packages (from keras>=2.0.0->mtcnn) (1.18.5)\n",
            "Installing collected packages: mtcnn\n",
            "Successfully installed mtcnn-0.1.0\n"
          ],
          "name": "stdout"
        }
      ]
    },
    {
      "cell_type": "code",
      "metadata": {
        "id": "jLK4A5pwIbRZ",
        "colab_type": "code",
        "colab": {
          "base_uri": "https://localhost:8080/",
          "height": 102
        },
        "outputId": "2ff976e8-d12a-4d8b-a8e8-209e37abc33a"
      },
      "source": [
        "try:\n",
        "  # %tensorflow_version only exists in Colab.\n",
        "  %tensorflow_version 2.x  #gpu\n",
        "except Exception:\n",
        "  pass"
      ],
      "execution_count": null,
      "outputs": [
        {
          "output_type": "stream",
          "text": [
            "`%tensorflow_version` only switches the major version: 1.x or 2.x.\n",
            "You set: `2.x  #gpu`. This will be interpreted as: `2.x`.\n",
            "\n",
            "\n",
            "TensorFlow 2.x selected.\n"
          ],
          "name": "stdout"
        }
      ]
    },
    {
      "cell_type": "code",
      "metadata": {
        "id": "BdJM-LQkBG2j",
        "colab_type": "code",
        "colab": {
          "base_uri": "https://localhost:8080/",
          "height": 54
        },
        "outputId": "73ea21b8-3d0a-4f0d-f5b6-29e0d1f87383"
      },
      "source": [
        "from google.colab import drive\n",
        "drive.mount('/content/drive')"
      ],
      "execution_count": null,
      "outputs": [
        {
          "output_type": "stream",
          "text": [
            "Drive already mounted at /content/drive; to attempt to forcibly remount, call drive.mount(\"/content/drive\", force_remount=True).\n"
          ],
          "name": "stdout"
        }
      ]
    },
    {
      "cell_type": "markdown",
      "metadata": {
        "id": "FNB938e-Se-u",
        "colab_type": "text"
      },
      "source": [
        "### Get face"
      ]
    },
    {
      "cell_type": "code",
      "metadata": {
        "id": "ZKBPcCQfsrjN",
        "colab_type": "code",
        "colab": {}
      },
      "source": [
        "from mtcnn.mtcnn import MTCNN\n",
        "import os\n",
        "import numpy as np\n",
        "from os import listdir\n",
        "import cv2\n",
        "detector = MTCNN()\n",
        "os.mkdir('/content/drive/My Drive/Tri_tue_NTTDK/face_images')\n",
        "for forder_name in listdir('/content/drive/My Drive/Tri_tue_NTTDK/Dataset'):\n",
        "  os.mkdir('/content/drive/My Drive/Tri_tue_NTTDK/face_images/' + forder_name)\n",
        "  for file_name in listdir('/content/drive/My Drive/Tri_tue_NTTDK/Dataset/' + forder_name):\n",
        "    print(forder_name + '/' + file_name)\n",
        "    image = cv2.imread('/content/drive/My Drive/Tri_tue_NTTDK/Dataset/' + forder_name + '/' + file_name)\n",
        "    image = cv2.resize(image,(640,int(image.shape[0]/image.shape[1]*640)), interpolation = cv2.INTER_AREA)\n",
        "    faces = detector.detect_faces(image)\n",
        "    print(len(faces))\n",
        "    for person in faces:\n",
        "      cnt = np.random.randn(1)[0]\n",
        "      bounding_box = person['box']\n",
        "      im_crop = image[bounding_box[1]: bounding_box[1] + bounding_box[3], bounding_box[0]: bounding_box[0]+bounding_box[2] ]\n",
        "      print('======')\n",
        "      if im_crop.shape[0] > 0 and im_crop.shape[1] > 0:\n",
        "        cv2.imwrite('/content/drive/My Drive/Tri_tue_NTTDK/face_images/' + forder_name + \"/\" + forder_name + '_' + str(cnt) +'.jpg', im_crop)"
      ],
      "execution_count": null,
      "outputs": []
    },
    {
      "cell_type": "code",
      "metadata": {
        "id": "a_b4wOIJS1Nu",
        "colab_type": "code",
        "colab": {}
      },
      "source": [
        "import numpy as np\n",
        "from os import listdir\n",
        "label_to_index = {'neutral': 0, 'happy': 1, 'angry': 2, 'sad': 3, 'surprise': 4}\n",
        "X_data = np.load('/content/drive/My Drive/Tri_tue_NTTDK/data_files/x_data.npy')\n",
        "y_labels = np.load('/content/drive/My Drive/Tri_tue_NTTDK/data_files/y_labels_faces1_grb_28.npy')\n",
        "\n"
      ],
      "execution_count": null,
      "outputs": []
    },
    {
      "cell_type": "code",
      "metadata": {
        "id": "p5LyFhuyTbrU",
        "colab_type": "code",
        "colab": {
          "base_uri": "https://localhost:8080/",
          "height": 51
        },
        "outputId": "da096979-f8d3-4b60-e979-93e36b6054b1"
      },
      "source": [
        "from sklearn.model_selection import train_test_split\n",
        "X_train, X_test, y_train, y_test = train_test_split(X_data,y_labels, test_size = 0.05)\n",
        "\n"
      ],
      "execution_count": null,
      "outputs": [
        {
          "output_type": "stream",
          "text": [
            "Using TensorFlow backend.\n"
          ],
          "name": "stderr"
        },
        {
          "output_type": "stream",
          "text": [
            "(2426, 160, 160, 3) (2426, 5)\n"
          ],
          "name": "stdout"
        }
      ]
    },
    {
      "cell_type": "markdown",
      "metadata": {
        "id": "I0q06JaqaXOV",
        "colab_type": "text"
      },
      "source": [
        "print(y_train.shape)"
      ]
    },
    {
      "cell_type": "code",
      "metadata": {
        "id": "t8g4sxQQWSyv",
        "colab_type": "code",
        "colab": {}
      },
      "source": [
        "import tensorflow as tf\n",
        "\n",
        "\n",
        "model = tf.keras.Sequential([\n",
        "    tf.keras.layers.Conv2D(8, 5, activation='relu'),\n",
        "    tf.keras.layers.BatchNormalization(),\n",
        "    tf.keras.layers.Conv2D(8, 5, activation='relu'),\n",
        "    tf.keras.layers.BatchNormalization(),\n",
        "    tf.keras.layers.MaxPooling2D(),\n",
        "    tf.keras.layers.Conv2D(16, 3, activation='relu'),\n",
        "    tf.keras.layers.BatchNormalization(),\n",
        "    tf.keras.layers.Conv2D(16, 3, activation='relu'),\n",
        "    tf.keras.layers.BatchNormalization(),\n",
        "    tf.keras.layers.Conv2D(32, 3, activation='relu'),\n",
        "    tf.keras.layers.BatchNormalization(),\n",
        "    tf.keras.layers.MaxPooling2D(),\n",
        "    tf.keras.layers.Conv2D(32, 3, activation='relu'),\n",
        "    tf.keras.layers.BatchNormalization(),\n",
        "    tf.keras.layers.Conv2D(64, 3, activation='relu'),\n",
        "    tf.keras.layers.BatchNormalization(),\n",
        "    tf.keras.layers.MaxPooling2D(),\n",
        "    tf.keras.layers.Conv2D(64, 3, activation='relu'),\n",
        "    tf.keras.layers.BatchNormalization(),\n",
        "    tf.keras.layers.Conv2D(128, 3, activation='relu'),\n",
        "    tf.keras.layers.BatchNormalization(),\n",
        "    tf.keras.layers.Conv2D(128, 3, activation='relu'),\n",
        "    tf.keras.layers.BatchNormalization(),\n",
        "    tf.keras.layers.Conv2D(256, 3, activation='relu'),\n",
        "    tf.keras.layers.BatchNormalization(),\n",
        "    tf.keras.layers.MaxPooling2D(),\n",
        "    # tf.keras.layers.Conv2D(256, 3, activation='relu'),\n",
        "    # tf.keras.layers.BatchNormalization(),\n",
        "\n",
        "    tf.keras.layers.Flatten(),\n",
        "\n",
        "    # TODO: fill suitable activations\n",
        "    tf.keras.layers.Dense(units=50, activation='relu'),\n",
        "    tf.keras.layers.Dropout(0.5),\n",
        "    tf.keras.layers.Dense(units=40, activation='relu'),\n",
        "    tf.keras.layers.Dropout(0.5),\n",
        "    tf.keras.layers.Dense(units=50, activation='relu'),\n",
        "    tf.keras.layers.Dropout(0.25),\n",
        "    tf.keras.layers.Dense(units=5, activation='softmax')\n",
        "])"
      ],
      "execution_count": null,
      "outputs": []
    },
    {
      "cell_type": "code",
      "metadata": {
        "id": "NHAjSGkKXlNG",
        "colab_type": "code",
        "colab": {
          "base_uri": "https://localhost:8080/",
          "height": 1000
        },
        "outputId": "64aaa416-f404-4919-e6b6-a9cc7e244cbc"
      },
      "source": [
        "\n",
        "model.compile(loss='sparse_categorical_crossentropy',\n",
        "            optimizer = tf.keras.optimizers.Adam(),\n",
        "            metrics = ['accuracy'])\n",
        "history =  model.fit(X_train, y_train, epochs=50,validation_data=(X_test,y_test), batch_size = 15)\n",
        "model.summary()\n",
        "\n",
        "# serialize weights to HDF5\n",
        "model.save_weights(\"/content/drive/My Drive/Tri_tue_NTTDK/model_cnn/model_weight_very_big1.h5\") \n",
        "model.save(\"/content/drive/My Drive/Tri_tue_NTTDK/model_cnn/model_very_big1.h5\")\n",
        "print(model.evaluate(X_test,y_test))"
      ],
      "execution_count": null,
      "outputs": [
        {
          "output_type": "stream",
          "text": [
            "Epoch 1/50\n",
            "162/162 [==============================] - 3s 18ms/step - loss: 1.5075 - accuracy: 0.3825 - val_loss: 1.5060 - val_accuracy: 0.3594\n",
            "Epoch 2/50\n",
            "162/162 [==============================] - 3s 16ms/step - loss: 1.1093 - accuracy: 0.5804 - val_loss: 1.4018 - val_accuracy: 0.3594\n",
            "Epoch 3/50\n",
            "162/162 [==============================] - 3s 16ms/step - loss: 0.9029 - accuracy: 0.6867 - val_loss: 0.7165 - val_accuracy: 0.7500\n",
            "Epoch 4/50\n",
            "162/162 [==============================] - 3s 16ms/step - loss: 0.6873 - accuracy: 0.7840 - val_loss: 0.4730 - val_accuracy: 0.9141\n",
            "Epoch 5/50\n",
            "162/162 [==============================] - 3s 17ms/step - loss: 0.6466 - accuracy: 0.7964 - val_loss: 1.4961 - val_accuracy: 0.7656\n",
            "Epoch 6/50\n",
            "162/162 [==============================] - 3s 16ms/step - loss: 0.7568 - accuracy: 0.7564 - val_loss: 0.5133 - val_accuracy: 0.8672\n",
            "Epoch 7/50\n",
            "162/162 [==============================] - 3s 16ms/step - loss: 0.5369 - accuracy: 0.8207 - val_loss: 0.3696 - val_accuracy: 0.9062\n",
            "Epoch 8/50\n",
            "162/162 [==============================] - 3s 16ms/step - loss: 0.4678 - accuracy: 0.8409 - val_loss: 0.4657 - val_accuracy: 0.8672\n",
            "Epoch 9/50\n",
            "162/162 [==============================] - 3s 17ms/step - loss: 0.5029 - accuracy: 0.8273 - val_loss: 0.5053 - val_accuracy: 0.8750\n",
            "Epoch 10/50\n",
            "162/162 [==============================] - 3s 17ms/step - loss: 0.4425 - accuracy: 0.8504 - val_loss: 0.3478 - val_accuracy: 0.9219\n",
            "Epoch 11/50\n",
            "162/162 [==============================] - 3s 16ms/step - loss: 0.4274 - accuracy: 0.8603 - val_loss: 0.3785 - val_accuracy: 0.9062\n",
            "Epoch 12/50\n",
            "162/162 [==============================] - 3s 17ms/step - loss: 0.4194 - accuracy: 0.8702 - val_loss: 0.4606 - val_accuracy: 0.8984\n",
            "Epoch 13/50\n",
            "162/162 [==============================] - 3s 17ms/step - loss: 0.4198 - accuracy: 0.8697 - val_loss: 0.3333 - val_accuracy: 0.9297\n",
            "Epoch 14/50\n",
            "162/162 [==============================] - 3s 16ms/step - loss: 0.3742 - accuracy: 0.8842 - val_loss: 0.2581 - val_accuracy: 0.9375\n",
            "Epoch 15/50\n",
            "162/162 [==============================] - 3s 16ms/step - loss: 0.3371 - accuracy: 0.8866 - val_loss: 0.3320 - val_accuracy: 0.9141\n",
            "Epoch 16/50\n",
            "162/162 [==============================] - 3s 16ms/step - loss: 0.4563 - accuracy: 0.8483 - val_loss: 0.2909 - val_accuracy: 0.9375\n",
            "Epoch 17/50\n",
            "162/162 [==============================] - 3s 17ms/step - loss: 0.3693 - accuracy: 0.8846 - val_loss: 0.4437 - val_accuracy: 0.8672\n",
            "Epoch 18/50\n",
            "162/162 [==============================] - 3s 16ms/step - loss: 0.3103 - accuracy: 0.9011 - val_loss: 0.2623 - val_accuracy: 0.9375\n",
            "Epoch 19/50\n",
            "162/162 [==============================] - 3s 17ms/step - loss: 0.3451 - accuracy: 0.8982 - val_loss: 0.2836 - val_accuracy: 0.9219\n",
            "Epoch 20/50\n",
            "162/162 [==============================] - 3s 16ms/step - loss: 0.3344 - accuracy: 0.8899 - val_loss: 0.2769 - val_accuracy: 0.9297\n",
            "Epoch 21/50\n",
            "162/162 [==============================] - 3s 16ms/step - loss: 0.2757 - accuracy: 0.9101 - val_loss: 0.2076 - val_accuracy: 0.9297\n",
            "Epoch 22/50\n",
            "162/162 [==============================] - 3s 16ms/step - loss: 0.2999 - accuracy: 0.8994 - val_loss: 0.2128 - val_accuracy: 0.9297\n",
            "Epoch 23/50\n",
            "162/162 [==============================] - 3s 16ms/step - loss: 0.2851 - accuracy: 0.9035 - val_loss: 0.4905 - val_accuracy: 0.8906\n",
            "Epoch 24/50\n",
            "162/162 [==============================] - 3s 16ms/step - loss: 0.3811 - accuracy: 0.8850 - val_loss: 0.2516 - val_accuracy: 0.9141\n",
            "Epoch 25/50\n",
            "162/162 [==============================] - 3s 17ms/step - loss: 0.2916 - accuracy: 0.9027 - val_loss: 0.2270 - val_accuracy: 0.9297\n",
            "Epoch 26/50\n",
            "162/162 [==============================] - 3s 16ms/step - loss: 0.3072 - accuracy: 0.9044 - val_loss: 0.2804 - val_accuracy: 0.9297\n",
            "Epoch 27/50\n",
            "162/162 [==============================] - 3s 17ms/step - loss: 0.2923 - accuracy: 0.9048 - val_loss: 0.2271 - val_accuracy: 0.9297\n",
            "Epoch 28/50\n",
            "162/162 [==============================] - 3s 17ms/step - loss: 0.2780 - accuracy: 0.9155 - val_loss: 0.3429 - val_accuracy: 0.9062\n",
            "Epoch 29/50\n",
            "162/162 [==============================] - 3s 16ms/step - loss: 0.2365 - accuracy: 0.9279 - val_loss: 0.2233 - val_accuracy: 0.9297\n",
            "Epoch 30/50\n",
            "162/162 [==============================] - 3s 16ms/step - loss: 0.2374 - accuracy: 0.9287 - val_loss: 0.2058 - val_accuracy: 0.9297\n",
            "Epoch 31/50\n",
            "162/162 [==============================] - 3s 16ms/step - loss: 0.2185 - accuracy: 0.9328 - val_loss: 0.2393 - val_accuracy: 0.9375\n",
            "Epoch 32/50\n",
            "162/162 [==============================] - 3s 16ms/step - loss: 0.3329 - accuracy: 0.9134 - val_loss: 0.2523 - val_accuracy: 0.9297\n",
            "Epoch 33/50\n",
            "162/162 [==============================] - 3s 17ms/step - loss: 0.2781 - accuracy: 0.9209 - val_loss: 0.1712 - val_accuracy: 0.9297\n",
            "Epoch 34/50\n",
            "162/162 [==============================] - 3s 16ms/step - loss: 0.2134 - accuracy: 0.9353 - val_loss: 0.3373 - val_accuracy: 0.8984\n",
            "Epoch 35/50\n",
            "162/162 [==============================] - 3s 16ms/step - loss: 0.2069 - accuracy: 0.9406 - val_loss: 0.1337 - val_accuracy: 0.9531\n",
            "Epoch 36/50\n",
            "162/162 [==============================] - 3s 17ms/step - loss: 0.2080 - accuracy: 0.9394 - val_loss: 0.2238 - val_accuracy: 0.9375\n",
            "Epoch 37/50\n",
            "162/162 [==============================] - 3s 16ms/step - loss: 0.2239 - accuracy: 0.9382 - val_loss: 0.2820 - val_accuracy: 0.9297\n",
            "Epoch 38/50\n",
            "162/162 [==============================] - 3s 17ms/step - loss: 0.1717 - accuracy: 0.9518 - val_loss: 0.2109 - val_accuracy: 0.9297\n",
            "Epoch 39/50\n",
            "162/162 [==============================] - 3s 17ms/step - loss: 0.1861 - accuracy: 0.9497 - val_loss: 0.1761 - val_accuracy: 0.9297\n",
            "Epoch 40/50\n",
            "162/162 [==============================] - 3s 17ms/step - loss: 0.2333 - accuracy: 0.9439 - val_loss: 0.2495 - val_accuracy: 0.9297\n",
            "Epoch 41/50\n",
            "162/162 [==============================] - 3s 17ms/step - loss: 0.1984 - accuracy: 0.9530 - val_loss: 0.1888 - val_accuracy: 0.9375\n",
            "Epoch 42/50\n",
            "162/162 [==============================] - 3s 17ms/step - loss: 0.1503 - accuracy: 0.9551 - val_loss: 0.2013 - val_accuracy: 0.9375\n",
            "Epoch 43/50\n",
            "162/162 [==============================] - 3s 16ms/step - loss: 0.1379 - accuracy: 0.9588 - val_loss: 0.1708 - val_accuracy: 0.9453\n",
            "Epoch 44/50\n",
            "162/162 [==============================] - 3s 17ms/step - loss: 0.1360 - accuracy: 0.9584 - val_loss: 0.1711 - val_accuracy: 0.9531\n",
            "Epoch 45/50\n",
            "162/162 [==============================] - 3s 16ms/step - loss: 0.1539 - accuracy: 0.9584 - val_loss: 0.2549 - val_accuracy: 0.9609\n",
            "Epoch 46/50\n",
            "162/162 [==============================] - 3s 16ms/step - loss: 0.1208 - accuracy: 0.9617 - val_loss: 0.1318 - val_accuracy: 0.9531\n",
            "Epoch 47/50\n",
            "162/162 [==============================] - 3s 16ms/step - loss: 0.1095 - accuracy: 0.9662 - val_loss: 0.1622 - val_accuracy: 0.9531\n",
            "Epoch 48/50\n",
            "162/162 [==============================] - 3s 16ms/step - loss: 0.1559 - accuracy: 0.9580 - val_loss: 0.2123 - val_accuracy: 0.9375\n",
            "Epoch 49/50\n",
            "162/162 [==============================] - 3s 16ms/step - loss: 0.1228 - accuracy: 0.9617 - val_loss: 0.1969 - val_accuracy: 0.9453\n",
            "Epoch 50/50\n",
            "162/162 [==============================] - 3s 17ms/step - loss: 0.1072 - accuracy: 0.9662 - val_loss: 0.1529 - val_accuracy: 0.9531\n",
            "Model: \"sequential_15\"\n",
            "_________________________________________________________________\n",
            "Layer (type)                 Output Shape              Param #   \n",
            "=================================================================\n",
            "conv2d_163 (Conv2D)          multiple                  608       \n",
            "_________________________________________________________________\n",
            "batch_normalization_163 (Bat multiple                  32        \n",
            "_________________________________________________________________\n",
            "conv2d_164 (Conv2D)          multiple                  1608      \n",
            "_________________________________________________________________\n",
            "batch_normalization_164 (Bat multiple                  32        \n",
            "_________________________________________________________________\n",
            "max_pooling2d_51 (MaxPooling multiple                  0         \n",
            "_________________________________________________________________\n",
            "conv2d_165 (Conv2D)          multiple                  1168      \n",
            "_________________________________________________________________\n",
            "batch_normalization_165 (Bat multiple                  64        \n",
            "_________________________________________________________________\n",
            "conv2d_166 (Conv2D)          multiple                  2320      \n",
            "_________________________________________________________________\n",
            "batch_normalization_166 (Bat multiple                  64        \n",
            "_________________________________________________________________\n",
            "conv2d_167 (Conv2D)          multiple                  4640      \n",
            "_________________________________________________________________\n",
            "batch_normalization_167 (Bat multiple                  128       \n",
            "_________________________________________________________________\n",
            "max_pooling2d_52 (MaxPooling multiple                  0         \n",
            "_________________________________________________________________\n",
            "conv2d_168 (Conv2D)          multiple                  9248      \n",
            "_________________________________________________________________\n",
            "batch_normalization_168 (Bat multiple                  128       \n",
            "_________________________________________________________________\n",
            "conv2d_169 (Conv2D)          multiple                  18496     \n",
            "_________________________________________________________________\n",
            "batch_normalization_169 (Bat multiple                  256       \n",
            "_________________________________________________________________\n",
            "max_pooling2d_53 (MaxPooling multiple                  0         \n",
            "_________________________________________________________________\n",
            "conv2d_170 (Conv2D)          multiple                  36928     \n",
            "_________________________________________________________________\n",
            "batch_normalization_170 (Bat multiple                  256       \n",
            "_________________________________________________________________\n",
            "conv2d_171 (Conv2D)          multiple                  73856     \n",
            "_________________________________________________________________\n",
            "batch_normalization_171 (Bat multiple                  512       \n",
            "_________________________________________________________________\n",
            "conv2d_172 (Conv2D)          multiple                  147584    \n",
            "_________________________________________________________________\n",
            "batch_normalization_172 (Bat multiple                  512       \n",
            "_________________________________________________________________\n",
            "conv2d_173 (Conv2D)          multiple                  295168    \n",
            "_________________________________________________________________\n",
            "batch_normalization_173 (Bat multiple                  1024      \n",
            "_________________________________________________________________\n",
            "max_pooling2d_54 (MaxPooling multiple                  0         \n",
            "_________________________________________________________________\n",
            "flatten_15 (Flatten)         multiple                  0         \n",
            "_________________________________________________________________\n",
            "dense_60 (Dense)             multiple                  115250    \n",
            "_________________________________________________________________\n",
            "dropout_45 (Dropout)         multiple                  0         \n",
            "_________________________________________________________________\n",
            "dense_61 (Dense)             multiple                  2040      \n",
            "_________________________________________________________________\n",
            "dropout_46 (Dropout)         multiple                  0         \n",
            "_________________________________________________________________\n",
            "dense_62 (Dense)             multiple                  2050      \n",
            "_________________________________________________________________\n",
            "dropout_47 (Dropout)         multiple                  0         \n",
            "_________________________________________________________________\n",
            "dense_63 (Dense)             multiple                  255       \n",
            "=================================================================\n",
            "Total params: 714,227\n",
            "Trainable params: 712,723\n",
            "Non-trainable params: 1,504\n",
            "_________________________________________________________________\n",
            "4/4 [==============================] - 0s 7ms/step - loss: 0.1529 - accuracy: 0.9531\n",
            "[0.15294212102890015, 0.953125]\n"
          ],
          "name": "stdout"
        }
      ]
    },
    {
      "cell_type": "code",
      "metadata": {
        "id": "6ogUoV7vmFIc",
        "colab_type": "code",
        "colab": {
          "base_uri": "https://localhost:8080/",
          "height": 295
        },
        "outputId": "de30bf97-b36b-45bb-a8a8-51eb6a9daa31"
      },
      "source": [
        "import matplotlib.pyplot as plt\n",
        "\n",
        "loss_train = history.history['loss']\n",
        "# loss_val = history.history['val_loss']\n",
        "epochs = range(0,50)\n",
        "plt.plot(epochs, loss_train, 'g', label='Training loss')\n",
        "# plt.plot(epochs, loss_val, 'b', label='validation loss')\n",
        "plt.title('Training loss')\n",
        "plt.xlabel('Epochs')\n",
        "plt.ylabel('Loss')\n",
        "plt.legend()\n",
        "plt.show()"
      ],
      "execution_count": null,
      "outputs": [
        {
          "output_type": "display_data",
          "data": {
            "image/png": "[encoded data removed]",
            "text/plain": [
              "<Figure size 432x288 with 1 Axes>"
            ]
          },
          "metadata": {
            "tags": [],
            "needs_background": "light"
          }
        }
      ]
    }
  ]
}